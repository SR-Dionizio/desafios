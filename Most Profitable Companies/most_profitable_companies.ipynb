{
 "cells": [
  {
   "cell_type": "code",
   "execution_count": 12,
   "id": "initial_id",
   "metadata": {
    "collapsed": true,
    "ExecuteTime": {
     "end_time": "2024-10-11T22:54:53.309830600Z",
     "start_time": "2024-10-11T22:54:53.304418500Z"
    }
   },
   "outputs": [],
   "source": [
    "from pyspark.sql import functions as F\n",
    "from pyspark.sql import SparkSession"
   ]
  },
  {
   "cell_type": "code",
   "outputs": [],
   "source": [
    "spark = SparkSession.builder.appName(\"forbes\").getOrCreate()"
   ],
   "metadata": {
    "collapsed": false,
    "ExecuteTime": {
     "end_time": "2024-10-11T22:48:03.946789800Z",
     "start_time": "2024-10-11T22:48:00.801509900Z"
    }
   },
   "id": "c56779d975cf9f5d",
   "execution_count": 2
  },
  {
   "cell_type": "code",
   "outputs": [],
   "source": [
    "forbes_global_2010_2014 = spark.read.csv('/home/jovyan/work/forbes.csv', header=True, inferSchema=True)"
   ],
   "metadata": {
    "collapsed": false,
    "ExecuteTime": {
     "end_time": "2024-10-11T22:52:39.237940Z",
     "start_time": "2024-10-11T22:52:38.447689700Z"
    }
   },
   "id": "a17b85693fe8a3e4",
   "execution_count": 7
  },
  {
   "cell_type": "code",
   "outputs": [],
   "source": [
    "forbes_global_2010_2014 = forbes_global_2010_2014.orderBy(\n",
    "    F.col(\"profits\").desc()).limit(3)"
   ],
   "metadata": {
    "collapsed": false,
    "ExecuteTime": {
     "end_time": "2024-10-11T22:52:48.408453700Z",
     "start_time": "2024-10-11T22:52:48.367511700Z"
    }
   },
   "id": "a6e3775ccb819632",
   "execution_count": 9
  },
  {
   "cell_type": "code",
   "outputs": [],
   "source": [
    "forbes_global_2010_2014 = forbes_global_2010_2014.select(\n",
    "        \"company\",\n",
    "        \"profits\"\n",
    "    )"
   ],
   "metadata": {
    "collapsed": false,
    "ExecuteTime": {
     "end_time": "2024-10-11T22:52:51.683916100Z",
     "start_time": "2024-10-11T22:52:51.664547100Z"
    }
   },
   "id": "e9adb3a9e6d3a79e",
   "execution_count": 10
  },
  {
   "cell_type": "code",
   "outputs": [
    {
     "data": {
      "text/plain": "   company  profits\n0     ICBC     42.7\n1  Gazprom     39.0\n2    Apple     37.0",
      "text/html": "<div>\n<style scoped>\n    .dataframe tbody tr th:only-of-type {\n        vertical-align: middle;\n    }\n\n    .dataframe tbody tr th {\n        vertical-align: top;\n    }\n\n    .dataframe thead th {\n        text-align: right;\n    }\n</style>\n<table border=\"1\" class=\"dataframe\">\n  <thead>\n    <tr style=\"text-align: right;\">\n      <th></th>\n      <th>company</th>\n      <th>profits</th>\n    </tr>\n  </thead>\n  <tbody>\n    <tr>\n      <th>0</th>\n      <td>ICBC</td>\n      <td>42.7</td>\n    </tr>\n    <tr>\n      <th>1</th>\n      <td>Gazprom</td>\n      <td>39.0</td>\n    </tr>\n    <tr>\n      <th>2</th>\n      <td>Apple</td>\n      <td>37.0</td>\n    </tr>\n  </tbody>\n</table>\n</div>"
     },
     "execution_count": 11,
     "metadata": {},
     "output_type": "execute_result"
    }
   ],
   "source": [
    "forbes_global_2010_2014.toPandas()"
   ],
   "metadata": {
    "collapsed": false,
    "ExecuteTime": {
     "end_time": "2024-10-11T22:52:54.564822900Z",
     "start_time": "2024-10-11T22:52:53.673864100Z"
    }
   },
   "id": "8cd8d1eb1c0d186",
   "execution_count": 11
  }
 ],
 "metadata": {
  "kernelspec": {
   "display_name": "Python 3",
   "language": "python",
   "name": "python3"
  },
  "language_info": {
   "codemirror_mode": {
    "name": "ipython",
    "version": 2
   },
   "file_extension": ".py",
   "mimetype": "text/x-python",
   "name": "python",
   "nbconvert_exporter": "python",
   "pygments_lexer": "ipython2",
   "version": "2.7.6"
  }
 },
 "nbformat": 4,
 "nbformat_minor": 5
}
