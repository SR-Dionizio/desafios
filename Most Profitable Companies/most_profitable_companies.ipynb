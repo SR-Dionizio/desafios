{
 "cells": [
  {
   "cell_type": "code",
   "execution_count": null,
   "id": "initial_id",
   "metadata": {
    "collapsed": true
   },
   "outputs": [],
   "source": [
    "from pyspark.sql import functions as F"
   ]
  },
  {
   "cell_type": "code",
   "outputs": [],
   "source": [
    "spark = SparkSession.builder.appName(\"forbes\").getOrCreate()"
   ],
   "metadata": {
    "collapsed": false
   },
   "id": "c56779d975cf9f5d"
  },
  {
   "cell_type": "code",
   "outputs": [],
   "source": [
    "forbes_global_2010_2014 = spark.read.csv('forbes.csv', header=True, inferSchema=True)\n"
   ],
   "metadata": {
    "collapsed": false
   },
   "id": "a17b85693fe8a3e4"
  },
  {
   "cell_type": "code",
   "outputs": [],
   "source": [
    "forbes_global_2010_2014 = forbes_global_2010_2014.orderBy(\n",
    "    F.col(\"profits\").desc()).limit(3)"
   ],
   "metadata": {
    "collapsed": false
   },
   "id": "a6e3775ccb819632"
  },
  {
   "cell_type": "code",
   "outputs": [],
   "source": [
    "forbes_global_2010_2014 = forbes_global_2010_2014.select(\n",
    "        \"company\",\n",
    "        \"profits\"\n",
    "    )"
   ],
   "metadata": {
    "collapsed": false
   },
   "id": "e9adb3a9e6d3a79e"
  },
  {
   "cell_type": "code",
   "outputs": [],
   "source": [
    "forbes_global_2010_2014.toPandas()"
   ],
   "metadata": {
    "collapsed": false
   },
   "id": "8cd8d1eb1c0d186"
  }
 ],
 "metadata": {
  "kernelspec": {
   "display_name": "Python 3",
   "language": "python",
   "name": "python3"
  },
  "language_info": {
   "codemirror_mode": {
    "name": "ipython",
    "version": 2
   },
   "file_extension": ".py",
   "mimetype": "text/x-python",
   "name": "python",
   "nbconvert_exporter": "python",
   "pygments_lexer": "ipython2",
   "version": "2.7.6"
  }
 },
 "nbformat": 4,
 "nbformat_minor": 5
}
