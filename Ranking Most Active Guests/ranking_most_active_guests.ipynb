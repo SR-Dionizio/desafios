{
 "cells": [
  {
   "cell_type": "code",
   "execution_count": 2,
   "id": "initial_id",
   "metadata": {
    "collapsed": true,
    "ExecuteTime": {
     "end_time": "2024-10-14T11:56:46.440877400Z",
     "start_time": "2024-10-14T11:56:46.422310800Z"
    }
   },
   "outputs": [],
   "source": [
    "from pyspark.sql import functions as F\n",
    "from pyspark.sql.window import Window\n",
    "from pyspark.sql import SparkSession"
   ]
  },
  {
   "cell_type": "code",
   "outputs": [],
   "source": [
    "spark = SparkSession.builder.appName(\"airbnb\").getOrCreate()"
   ],
   "metadata": {
    "collapsed": false,
    "ExecuteTime": {
     "end_time": "2024-10-14T11:57:24.319862Z",
     "start_time": "2024-10-14T11:57:18.885906500Z"
    }
   },
   "id": "374c96f83971fd94",
   "execution_count": 3
  },
  {
   "cell_type": "code",
   "outputs": [],
   "source": [
    "airbnb_contacts = spark.read.csv('/home/jovyan/work/airbnb_contacts.csv', header=True, inferSchema=True)"
   ],
   "metadata": {
    "collapsed": false
   },
   "id": "aebbf502f5bbdbcb"
  },
  {
   "cell_type": "code",
   "outputs": [],
   "source": [
    "df = airbnb_contacts.groupby('id_guest').agg(F.sum('n_messages').alias('n_messages')).orderBy(F.desc('n_messages'), 'id_guest')"
   ],
   "metadata": {
    "collapsed": false
   },
   "id": "222bc4ce46adf087"
  },
  {
   "cell_type": "code",
   "outputs": [],
   "source": [
    "df = df.withColumn('ranking', F.dense_rank().over(Window.orderBy(F.desc('n_messages'))))"
   ],
   "metadata": {
    "collapsed": false
   },
   "id": "4b104bcd83a49d5e"
  },
  {
   "cell_type": "code",
   "outputs": [],
   "source": [
    "result = df.toPandas()"
   ],
   "metadata": {
    "collapsed": false
   },
   "id": "b10b5d8a017560e6"
  }
 ],
 "metadata": {
  "kernelspec": {
   "display_name": "Python 3",
   "language": "python",
   "name": "python3"
  },
  "language_info": {
   "codemirror_mode": {
    "name": "ipython",
    "version": 2
   },
   "file_extension": ".py",
   "mimetype": "text/x-python",
   "name": "python",
   "nbconvert_exporter": "python",
   "pygments_lexer": "ipython2",
   "version": "2.7.6"
  }
 },
 "nbformat": 4,
 "nbformat_minor": 5
}
