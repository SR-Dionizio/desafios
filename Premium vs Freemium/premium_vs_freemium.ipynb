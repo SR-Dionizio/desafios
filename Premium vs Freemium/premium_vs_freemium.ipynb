{
 "cells": [
  {
   "cell_type": "code",
   "execution_count": 3,
   "id": "initial_id",
   "metadata": {
    "collapsed": true,
    "ExecuteTime": {
     "end_time": "2024-10-11T23:20:47.944471600Z",
     "start_time": "2024-10-11T23:20:47.938450100Z"
    }
   },
   "outputs": [],
   "source": [
    "from pyspark.sql import functions as F\n",
    "from pyspark.sql import SparkSession"
   ]
  },
  {
   "cell_type": "code",
   "outputs": [],
   "source": [
    "spark = SparkSession.builder.appName(\"downloads\").getOrCreate()"
   ],
   "metadata": {
    "collapsed": false,
    "ExecuteTime": {
     "end_time": "2024-10-11T23:20:52.573607500Z",
     "start_time": "2024-10-11T23:20:49.677911700Z"
    }
   },
   "id": "e895a48998b9f55c",
   "execution_count": 4
  },
  {
   "cell_type": "code",
   "outputs": [],
   "source": [
    "ms_download_facts = spark.read.csv('/home/jovyan/work/Premium vs Freemium/ms_download_facts.csv', header=True, inferSchema=True)\n",
    "\n",
    "ms_acc_dimension = spark.read.csv('/home/jovyan/work/Premium vs Freemium/ms_acc_dimension.csv', header=True, inferSchema=True)\n",
    "\n",
    "ms_user_dimension = spark.read.csv('/home/jovyan/work/Premium vs Freemium/ms_user_dimension.csv', header=True, inferSchema=True)"
   ],
   "metadata": {
    "collapsed": false,
    "ExecuteTime": {
     "end_time": "2024-10-11T23:21:44.369711500Z",
     "start_time": "2024-10-11T23:21:43.701018300Z"
    }
   },
   "id": "a561169abe80569e",
   "execution_count": 10
  },
  {
   "cell_type": "code",
   "outputs": [],
   "source": [
    "ms_download_facts = ms_download_facts.join(\n",
    "    ms_user_dimension, ms_download_facts.user_id == ms_user_dimension.user_id, \"left\" ).join(\n",
    "        ms_acc_dimension, ms_user_dimension.acc_id == ms_acc_dimension.acc_id)"
   ],
   "metadata": {
    "collapsed": false,
    "ExecuteTime": {
     "end_time": "2024-10-11T23:21:45.506380300Z",
     "start_time": "2024-10-11T23:21:45.468367500Z"
    }
   },
   "id": "8ac0a72978296219",
   "execution_count": 11
  },
  {
   "cell_type": "code",
   "outputs": [],
   "source": [
    "ms_download_facts = ms_download_facts.groupBy(\"date\", \"paying_customer\").agg(\n",
    "    F.sum(\"downloads\").alias(\"total_downloads\")\n",
    ")"
   ],
   "metadata": {
    "collapsed": false,
    "ExecuteTime": {
     "end_time": "2024-10-11T23:21:52.823848100Z",
     "start_time": "2024-10-11T23:21:52.775523600Z"
    }
   },
   "id": "c7541f39f74e4a85",
   "execution_count": 12
  },
  {
   "cell_type": "code",
   "outputs": [],
   "source": [
    "ms_download_facts = ms_download_facts.groupBy(\"date\").pivot(\"paying_customer\").sum(\"total_downloads\")"
   ],
   "metadata": {
    "collapsed": false,
    "ExecuteTime": {
     "end_time": "2024-10-11T23:21:58.829483100Z",
     "start_time": "2024-10-11T23:21:57.432106100Z"
    }
   },
   "id": "1a196bdafa1f585a",
   "execution_count": 13
  },
  {
   "cell_type": "code",
   "outputs": [],
   "source": [
    "ms_download_facts = ms_download_facts.withColumnRenamed(\"no\", \"non_paying_downloads\").withColumnRenamed(\"yes\", \"paying_downloads\")"
   ],
   "metadata": {
    "collapsed": false,
    "ExecuteTime": {
     "end_time": "2024-10-11T23:22:07.733245400Z",
     "start_time": "2024-10-11T23:22:07.691047600Z"
    }
   },
   "id": "75610562966bf3d2",
   "execution_count": 14
  },
  {
   "cell_type": "code",
   "outputs": [],
   "source": [
    "ms_download_facts = ms_download_facts.filter(F.col(\"non_paying_downloads\") > F.col(\"paying_downloads\"))"
   ],
   "metadata": {
    "collapsed": false,
    "ExecuteTime": {
     "end_time": "2024-10-11T23:22:16.552059800Z",
     "start_time": "2024-10-11T23:22:16.514988100Z"
    }
   },
   "id": "493b1fcdeecf8941",
   "execution_count": 15
  },
  {
   "cell_type": "code",
   "outputs": [],
   "source": [
    "ms_download_facts = ms_download_facts.orderBy(F.col(\"date\").asc())"
   ],
   "metadata": {
    "collapsed": false,
    "ExecuteTime": {
     "end_time": "2024-10-11T23:22:22.219017500Z",
     "start_time": "2024-10-11T23:22:22.169459500Z"
    }
   },
   "id": "78bcb0b99dedda80",
   "execution_count": 16
  },
  {
   "cell_type": "code",
   "outputs": [],
   "source": [
    "ms_download_facts = ms_download_facts.select(\"date\", \"non_paying_downloads\", \"paying_downloads\")"
   ],
   "metadata": {
    "collapsed": false,
    "ExecuteTime": {
     "end_time": "2024-10-11T23:22:27.149570Z",
     "start_time": "2024-10-11T23:22:27.092508Z"
    }
   },
   "id": "41712b5d6072fb53",
   "execution_count": 17
  },
  {
   "cell_type": "code",
   "outputs": [
    {
     "data": {
      "text/plain": "         date  non_paying_downloads  paying_downloads\n0  2020-08-16                    15                14\n1  2020-08-17                    45                 9\n2  2020-08-18                    10                 7\n3  2020-08-21                    32                17",
      "text/html": "<div>\n<style scoped>\n    .dataframe tbody tr th:only-of-type {\n        vertical-align: middle;\n    }\n\n    .dataframe tbody tr th {\n        vertical-align: top;\n    }\n\n    .dataframe thead th {\n        text-align: right;\n    }\n</style>\n<table border=\"1\" class=\"dataframe\">\n  <thead>\n    <tr style=\"text-align: right;\">\n      <th></th>\n      <th>date</th>\n      <th>non_paying_downloads</th>\n      <th>paying_downloads</th>\n    </tr>\n  </thead>\n  <tbody>\n    <tr>\n      <th>0</th>\n      <td>2020-08-16</td>\n      <td>15</td>\n      <td>14</td>\n    </tr>\n    <tr>\n      <th>1</th>\n      <td>2020-08-17</td>\n      <td>45</td>\n      <td>9</td>\n    </tr>\n    <tr>\n      <th>2</th>\n      <td>2020-08-18</td>\n      <td>10</td>\n      <td>7</td>\n    </tr>\n    <tr>\n      <th>3</th>\n      <td>2020-08-21</td>\n      <td>32</td>\n      <td>17</td>\n    </tr>\n  </tbody>\n</table>\n</div>"
     },
     "execution_count": 18,
     "metadata": {},
     "output_type": "execute_result"
    }
   ],
   "source": [
    "ms_download_facts.toPandas()"
   ],
   "metadata": {
    "collapsed": false,
    "ExecuteTime": {
     "end_time": "2024-10-11T23:22:33.323868100Z",
     "start_time": "2024-10-11T23:22:31.731786300Z"
    }
   },
   "id": "38b0774dd4d00a63",
   "execution_count": 18
  }
 ],
 "metadata": {
  "kernelspec": {
   "display_name": "Python 3",
   "language": "python",
   "name": "python3"
  },
  "language_info": {
   "codemirror_mode": {
    "name": "ipython",
    "version": 2
   },
   "file_extension": ".py",
   "mimetype": "text/x-python",
   "name": "python",
   "nbconvert_exporter": "python",
   "pygments_lexer": "ipython2",
   "version": "2.7.6"
  }
 },
 "nbformat": 4,
 "nbformat_minor": 5
}
